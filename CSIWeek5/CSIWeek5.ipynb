{
 "cells": [
  {
   "cell_type": "markdown",
   "id": "25a7d9f3-c177-4c97-879e-9dc8d1dce97c",
   "metadata": {},
   "source": [
    "# 1. COPY DATA FROM DATABASE"
   ]
  },
  {
   "cell_type": "markdown",
   "id": "2eea1469-6b99-4a27-bfa9-21b40e38970b",
   "metadata": {},
   "source": [
    "### IMPORTING LIBRARIES"
   ]
  },
  {
   "cell_type": "code",
   "execution_count": 1,
   "id": "b6ca35f1-c26a-42d1-a474-f5bb0559a10a",
   "metadata": {},
   "outputs": [],
   "source": [
    "import pandas as pd\n",
    "import pyarrow as pa\n",
    "import pyarrow.parquet as pq\n",
    "from fastavro import writer, parse_schema\n",
    "from sqlalchemy import create_engine"
   ]
  },
  {
   "cell_type": "markdown",
   "id": "e4915e27-049e-4498-bb80-8ee9bdd2d8d9",
   "metadata": {},
   "source": [
    "### CREATING ENGINE"
   ]
  },
  {
   "cell_type": "code",
   "execution_count": 2,
   "id": "9d2741a9-4ab9-40fa-8833-92e9de62a1f6",
   "metadata": {},
   "outputs": [],
   "source": [
    "from sqlalchemy import create_engine\n",
    "\n",
    "# Define the connection string\n",
    "username = 'poulami'\n",
    "password = 'your_password'\n",
    "host = 'localhost'  # or '127.0.0.1'\n",
    "port = '3306'  # Default MySQL port\n",
    "dbname = 'master'\n",
    "\n",
    "# Create the engine\n",
    "engine = create_engine(f'mysql+pymysql://{username}:{password}@{host}:{port}/{dbname}')\n"
   ]
  },
  {
   "cell_type": "markdown",
   "id": "f600595e-1e70-4b0e-8cbb-cd3e0efe3508",
   "metadata": {},
   "source": [
    "### TESTING CONNECTION"
   ]
  },
  {
   "cell_type": "code",
   "execution_count": 3,
   "id": "4947020b-8882-4c09-9130-f9ccbfba1381",
   "metadata": {},
   "outputs": [
    {
     "name": "stdout",
     "output_type": "stream",
     "text": [
      "  clientno            name addresss1 address2       city  pincode  \\\n",
      "0   C00001    Ivan Bayross        a1       a2     Mumbai   400054   \n",
      "1   C00002  Mamta Muzumdar        a1       a2     Madras   780001   \n",
      "2   C00003   Chhaya Bankar        a1       a2     Mumbai   400057   \n",
      "3   C00004   Ashwini Joshi        a1       a2  Bangalore   560001   \n",
      "4   C00005   Hansel Colaco        a1       a2     Mumbai   400060   \n",
      "\n",
      "         state   baldue  \n",
      "0  Maharashtra  15000.0  \n",
      "1   Tamil Nadu      0.0  \n",
      "2  Maharashtra   5000.0  \n",
      "3    Karnataka      0.0  \n",
      "4  Maharashtra   2000.0  \n"
     ]
    }
   ],
   "source": [
    "import pandas as pd\n",
    "\n",
    "# Test query\n",
    "df = pd.read_sql('SELECT * FROM client_master', engine)\n",
    "print(df.head())"
   ]
  },
  {
   "cell_type": "markdown",
   "id": "08d1c7d6-74a7-4898-96a5-de5ab7ed8ba3",
   "metadata": {},
   "source": [
    "### CONVERSION TO CSV"
   ]
  },
  {
   "cell_type": "code",
   "execution_count": 4,
   "id": "e6f5815f-0cde-48de-9059-245605276b3e",
   "metadata": {},
   "outputs": [],
   "source": [
    "df.to_csv('output.csv', index=False)"
   ]
  },
  {
   "cell_type": "markdown",
   "id": "c3e0bab0-4fb2-4a61-8b81-d0a5ec3d311e",
   "metadata": {},
   "source": [
    "### CONVERSION TO PARQUET"
   ]
  },
  {
   "cell_type": "code",
   "execution_count": 5,
   "id": "b309e35b-75d0-41d1-ab14-de9eda972725",
   "metadata": {},
   "outputs": [],
   "source": [
    "table = pa.Table.from_pandas(df)\n",
    "pq.write_table(table, 'output.parquet')"
   ]
  },
  {
   "cell_type": "markdown",
   "id": "c525f342-6e35-48ff-8fc2-7e20f6e315dc",
   "metadata": {},
   "source": [
    "### CONVERSION TO AVRO"
   ]
  },
  {
   "cell_type": "code",
   "execution_count": 6,
   "id": "8178d9af-a631-4ac4-8dba-bf962209019f",
   "metadata": {},
   "outputs": [],
   "source": [
    "def get_avro_type(dtype):\n",
    "    if pd.api.types.is_integer_dtype(dtype):\n",
    "        return 'int'\n",
    "    elif pd.api.types.is_float_dtype(dtype):\n",
    "        return 'float'\n",
    "    elif pd.api.types.is_bool_dtype(dtype):\n",
    "        return 'boolean'\n",
    "    elif pd.api.types.is_string_dtype(dtype):\n",
    "        return 'string'\n",
    "    elif pd.api.types.is_datetime64_any_dtype(dtype):\n",
    "        return {'type': 'long', 'logicalType': 'timestamp-micros'}\n",
    "    else:\n",
    "        return 'string'\n",
    "\n",
    "schema = {\n",
    "    'doc': 'Schema for your_table',\n",
    "    'name': 'your_table',\n",
    "    'namespace': 'namespace',\n",
    "    'type': 'record',\n",
    "    'fields': [{'name': col, 'type': get_avro_type(dtype)} for col, dtype in zip(df.columns, df.dtypes)]\n",
    "}\n",
    "records = df.to_dict(orient='records')\n",
    "\n",
    "with open('output.avro', 'wb') as out:\n",
    "    writer(out, parse_schema(schema), records)"
   ]
  },
  {
   "cell_type": "markdown",
   "id": "87257981-6ef4-4870-8c6a-b95b70bf5ccb",
   "metadata": {},
   "source": [
    "# 2. CONFIGURE SCHEDULE TRIGGERS, EVENT TRIGGERS"
   ]
  },
  {
   "cell_type": "markdown",
   "id": "8d166100-a574-40ee-9ad1-12b8d2687f80",
   "metadata": {},
   "source": [
    "### DIRECTED ACYCLC GRAPH"
   ]
  },
  {
   "cell_type": "code",
   "execution_count": 9,
   "id": "29b6de99-a1c3-429f-8930-b1fdd2ba8c9f",
   "metadata": {},
   "outputs": [
    {
     "data": {
      "text/html": [
       "<pre style=\"white-space:pre;overflow-x:auto;line-height:normal;font-family:Menlo,'DejaVu Sans Mono',consolas,'Courier New',monospace\"><span style=\"color: #808000; text-decoration-color: #808000; font-weight: bold\">/tmp/ipykernel_7543/2568772835.py:</span><span style=\"color: #808000; text-decoration-color: #808000; font-weight: bold\">2</span><span style=\"color: #808000; text-decoration-color: #808000; font-weight: bold\"> DeprecationWarning</span><span style=\"color: #808000; text-decoration-color: #808000\">: The `airflow.operators.python_operator.PythonOperator` class is deprecated. Please use `</span><span style=\"color: #808000; text-decoration-color: #808000\">'airflow.operators.python.PythonOperator'</span><span style=\"color: #808000; text-decoration-color: #808000\">`.</span>\n",
       "</pre>\n"
      ],
      "text/plain": [
       "\u001b[1;33m/tmp/ipykernel_7543/\u001b[0m\u001b[1;33m2568772835.py\u001b[0m\u001b[1;33m:\u001b[0m\u001b[1;33m2\u001b[0m\u001b[1;33m DeprecationWarning\u001b[0m\u001b[33m: The `airflow.operators.python_operator.PythonOperator` class is deprecated. Please use `\u001b[0m\u001b[33m'airflow.operators.python.PythonOperator'\u001b[0m\u001b[33m`.\u001b[0m\n"
      ]
     },
     "metadata": {},
     "output_type": "display_data"
    },
    {
     "data": {
      "text/html": [
       "<pre style=\"white-space:pre;overflow-x:auto;line-height:normal;font-family:Menlo,'DejaVu Sans Mono',consolas,'Courier New',monospace\"><span style=\"color: #808000; text-decoration-color: #808000; font-weight: bold\">/tmp/ipykernel_7543/2568772835.py:</span><span style=\"color: #808000; text-decoration-color: #808000; font-weight: bold\">44</span><span style=\"color: #808000; text-decoration-color: #808000; font-weight: bold\"> RemovedInAirflow3Warning</span><span style=\"color: #808000; text-decoration-color: #808000\">: Param `schedule_interval` is deprecated and will be removed in a future release. Please use `schedule` instead.</span>\n",
       "</pre>\n"
      ],
      "text/plain": [
       "\u001b[1;33m/tmp/ipykernel_7543/\u001b[0m\u001b[1;33m2568772835.py\u001b[0m\u001b[1;33m:\u001b[0m\u001b[1;33m44\u001b[0m\u001b[1;33m RemovedInAirflow3Warning\u001b[0m\u001b[33m: Param `schedule_interval` is deprecated and will be removed in a future release. Please use `schedule` instead.\u001b[0m\n"
      ]
     },
     "metadata": {},
     "output_type": "display_data"
    }
   ],
   "source": [
    "from airflow import DAG\n",
    "from airflow.operators.python_operator import PythonOperator\n",
    "from datetime import datetime, timedelta\n",
    "\n",
    "def export_data():\n",
    "    # Define the connection string\n",
    "    username = 'poulami'\n",
    "    password = 'your_password'\n",
    "    host = 'localhost'  # or '127.0.0.1'\n",
    "    port = '3306'  # Default MySQL port\n",
    "    dbname = 'master'\n",
    "    \n",
    "    # Create the engine\n",
    "    engine = create_engine(f'mysql+pymysql://{username}:{password}@{host}:{port}/{dbname}')\n",
    "    df = pd.read_sql('SELECT * FROM client_master', engine)\n",
    "    df.to_csv('output.csv', index=False)\n",
    "    table = pa.Table.from_pandas(df)\n",
    "    pq.write_table(table, 'output.parquet')\n",
    "\n",
    "    schema = {\n",
    "    'doc': 'Schema for your_table',\n",
    "    'name': 'your_table',\n",
    "    'namespace': 'namespace',\n",
    "    'type': 'record',\n",
    "    'fields': [{'name': col, 'type': get_avro_type(dtype)} for col, dtype in zip(df.columns, df.dtypes)]\n",
    "    }\n",
    "    records = df.to_dict(orient='records')\n",
    "\n",
    "    with open('output.avro', 'wb') as out:\n",
    "        writer(out, parse_schema(schema), records)\n",
    "    \n",
    "    \n",
    "\n",
    "default_args = {\n",
    "    'owner': 'airflow',\n",
    "    'depends_on_past': False,\n",
    "    'start_date': datetime(2024, 1, 1),\n",
    "    'email_on_failure': False,\n",
    "    'email_on_retry': False,\n",
    "    'retries': 1,\n",
    "    'retry_delay': timedelta(minutes=5),\n",
    "}\n",
    "\n",
    "dag = DAG(\n",
    "    'export_data_pipeline',\n",
    "    default_args=default_args,\n",
    "    description='A simple data export pipeline',\n",
    "    schedule_interval=timedelta(days=1),\n",
    ")\n",
    "\n",
    "export_task = PythonOperator(\n",
    "    task_id='export_data',\n",
    "    python_callable=export_data,\n",
    "    dag=dag,\n",
    ")"
   ]
  },
  {
   "cell_type": "markdown",
   "id": "61409242-2a42-49ed-90c2-053422b2d53d",
   "metadata": {},
   "source": [
    "# 3. COPY ALL TABLES TO ANOTHER DATABASE"
   ]
  },
  {
   "cell_type": "code",
   "execution_count": 11,
   "id": "046a4b54-8904-42cd-8323-a6200735a1c9",
   "metadata": {},
   "outputs": [
    {
     "data": {
      "text/html": [
       "<pre style=\"white-space:pre;overflow-x:auto;line-height:normal;font-family:Menlo,'DejaVu Sans Mono',consolas,'Courier New',monospace\"><span style=\"color: #808000; text-decoration-color: #808000; font-weight: bold\">/tmp/ipykernel_7543/3538849894.py:</span><span style=\"color: #808000; text-decoration-color: #808000; font-weight: bold\">7</span><span style=\"color: #808000; text-decoration-color: #808000; font-weight: bold\"> SADeprecationWarning</span><span style=\"color: #808000; text-decoration-color: #808000\">: The </span><span style=\"color: #808000; text-decoration-color: #808000; font-weight: bold\">Engine.table_names()</span><span style=\"color: #808000; text-decoration-color: #808000\"> method is deprecated and will be removed in a future release.  Please refer to </span><span style=\"color: #808000; text-decoration-color: #808000; font-weight: bold\">Inspector.get_table_names()</span><span style=\"color: #808000; text-decoration-color: #808000\">. </span><span style=\"color: #808000; text-decoration-color: #808000; font-weight: bold\">(</span><span style=\"color: #808000; text-decoration-color: #808000\">deprecated since: </span><span style=\"color: #808000; text-decoration-color: #808000; font-weight: bold\">1.4</span><span style=\"color: #808000; text-decoration-color: #808000; font-weight: bold\">)</span>\n",
       "</pre>\n"
      ],
      "text/plain": [
       "\u001b[1;33m/tmp/ipykernel_7543/\u001b[0m\u001b[1;33m3538849894.py\u001b[0m\u001b[1;33m:\u001b[0m\u001b[1;33m7\u001b[0m\u001b[1;33m SADeprecationWarning\u001b[0m\u001b[33m: The \u001b[0m\u001b[1;33mEngine.table_names\u001b[0m\u001b[1;33m(\u001b[0m\u001b[1;33m)\u001b[0m\u001b[33m method is deprecated and will be removed in a future release.  Please refer to \u001b[0m\u001b[1;33mInspector.get_table_names\u001b[0m\u001b[1;33m(\u001b[0m\u001b[1;33m)\u001b[0m\u001b[33m. \u001b[0m\u001b[1;33m(\u001b[0m\u001b[33mdeprecated since: \u001b[0m\u001b[1;33m1.4\u001b[0m\u001b[1;33m)\u001b[0m\n"
      ]
     },
     "metadata": {},
     "output_type": "display_data"
    }
   ],
   "source": [
    "\n",
    "# Source and destination database connections\n",
    "source_engine = create_engine(f'mysql+pymysql://{username}:{password}@{host}:{port}/{dbname}')\n",
    "dest_db = 'new_master'\n",
    "dest_engine = create_engine(f'mysql+pymysql://{username}:{password}@{host}:{port}/{dest_db}')\n",
    "\n",
    "# Get list of tables\n",
    "tables = source_engine.table_names()\n",
    "\n",
    "# Copy each table\n",
    "for table in tables:\n",
    "    df = pd.read_sql_table(table, source_engine)\n",
    "    df.to_sql(table, dest_engine, index=False, if_exists='replace')\n"
   ]
  },
  {
   "cell_type": "markdown",
   "id": "904d17a9-f06f-4875-9cd3-8db608299e69",
   "metadata": {},
   "source": [
    "# 4. COPY SELECTED COLUMNS FROM SELECTED TABLES TO NEW DATABASE"
   ]
  },
  {
   "cell_type": "code",
   "execution_count": 13,
   "id": "cea32397-23bd-4687-b23d-d46972a58a37",
   "metadata": {},
   "outputs": [],
   "source": [
    "# Source and destination database connections\n",
    "source_engine = create_engine(f'mysql+pymysql://{username}:{password}@{host}:{port}/{dbname}')\n",
    "dest_db = 'new_sel_master'\n",
    "dest_engine = create_engine(f'mysql+pymysql://{username}:{password}@{host}:{port}/{dest_db}')\n",
    "\n",
    "# Define tables and columns to copy\n",
    "tables_and_columns = {\n",
    "    'client_master': ['clientno', 'name'],\n",
    "    'sales_order': ['orderno', 'clientno']\n",
    "}\n",
    "\n",
    "# Copy each specified table and columns\n",
    "for table, columns in tables_and_columns.items():\n",
    "    query = f\"SELECT {', '.join(columns)} FROM {table}\"\n",
    "    df = pd.read_sql(query, source_engine)\n",
    "    df.to_sql(table, dest_engine, index=False, if_exists='replace')"
   ]
  }
 ],
 "metadata": {
  "kernelspec": {
   "display_name": "Python 3 (ipykernel)",
   "language": "python",
   "name": "python3"
  },
  "language_info": {
   "codemirror_mode": {
    "name": "ipython",
    "version": 3
   },
   "file_extension": ".py",
   "mimetype": "text/x-python",
   "name": "python",
   "nbconvert_exporter": "python",
   "pygments_lexer": "ipython3",
   "version": "3.11.7"
  }
 },
 "nbformat": 4,
 "nbformat_minor": 5
}
